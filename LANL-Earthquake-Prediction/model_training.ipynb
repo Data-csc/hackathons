{
 "cells": [
  {
   "cell_type": "markdown",
   "id": "e30022a3-71d7-47f5-b7bb-b29abb4e2132",
   "metadata": {},
   "source": [
    "## Import Libraries"
   ]
  },
  {
   "cell_type": "code",
   "execution_count": 1,
   "id": "5d5736c1-47b1-43ce-915d-c1356213a07d",
   "metadata": {},
   "outputs": [],
   "source": [
    "import pandas as pd\n",
    "import numpy as np\n",
    "import matplotlib.pyplot as plt\n",
    "import seaborn as sns"
   ]
  },
  {
   "cell_type": "code",
   "execution_count": 2,
   "id": "b7fea29e-d403-462f-a5e6-cab0c8689f22",
   "metadata": {},
   "outputs": [],
   "source": [
    "%matplotlib inline"
   ]
  },
  {
   "cell_type": "markdown",
   "id": "e332fca1-2a70-4348-a02c-6224d1173631",
   "metadata": {},
   "source": [
    "## Read Train Data"
   ]
  },
  {
   "cell_type": "code",
   "execution_count": 3,
   "id": "9441debc-358a-41e6-a512-786afe28d291",
   "metadata": {},
   "outputs": [],
   "source": [
    "dataset = pd.read_csv('train.csv')"
   ]
  },
  {
   "cell_type": "code",
   "execution_count": 4,
   "id": "c8159aa8-316d-477b-8751-6f1788ebbb6f",
   "metadata": {},
   "outputs": [
    {
     "data": {
      "text/html": [
       "<div>\n",
       "<style scoped>\n",
       "    .dataframe tbody tr th:only-of-type {\n",
       "        vertical-align: middle;\n",
       "    }\n",
       "\n",
       "    .dataframe tbody tr th {\n",
       "        vertical-align: top;\n",
       "    }\n",
       "\n",
       "    .dataframe thead th {\n",
       "        text-align: right;\n",
       "    }\n",
       "</style>\n",
       "<table border=\"1\" class=\"dataframe\">\n",
       "  <thead>\n",
       "    <tr style=\"text-align: right;\">\n",
       "      <th></th>\n",
       "      <th>acoustic_data</th>\n",
       "      <th>time_to_failure</th>\n",
       "    </tr>\n",
       "  </thead>\n",
       "  <tbody>\n",
       "    <tr>\n",
       "      <th>0</th>\n",
       "      <td>12</td>\n",
       "      <td>1.4691</td>\n",
       "    </tr>\n",
       "    <tr>\n",
       "      <th>1</th>\n",
       "      <td>6</td>\n",
       "      <td>1.4691</td>\n",
       "    </tr>\n",
       "    <tr>\n",
       "      <th>2</th>\n",
       "      <td>8</td>\n",
       "      <td>1.4691</td>\n",
       "    </tr>\n",
       "    <tr>\n",
       "      <th>3</th>\n",
       "      <td>5</td>\n",
       "      <td>1.4691</td>\n",
       "    </tr>\n",
       "    <tr>\n",
       "      <th>4</th>\n",
       "      <td>8</td>\n",
       "      <td>1.4691</td>\n",
       "    </tr>\n",
       "  </tbody>\n",
       "</table>\n",
       "</div>"
      ],
      "text/plain": [
       "   acoustic_data  time_to_failure\n",
       "0             12           1.4691\n",
       "1              6           1.4691\n",
       "2              8           1.4691\n",
       "3              5           1.4691\n",
       "4              8           1.4691"
      ]
     },
     "execution_count": 4,
     "metadata": {},
     "output_type": "execute_result"
    }
   ],
   "source": [
    "dataset.head()"
   ]
  },
  {
   "cell_type": "code",
   "execution_count": 5,
   "id": "4109cbf8-578e-4f77-8510-b9d243d4785b",
   "metadata": {},
   "outputs": [
    {
     "name": "stdout",
     "output_type": "stream",
     "text": [
      "<class 'pandas.core.frame.DataFrame'>\n",
      "RangeIndex: 629145480 entries, 0 to 629145479\n",
      "Data columns (total 2 columns):\n",
      " #   Column           Dtype  \n",
      "---  ------           -----  \n",
      " 0   acoustic_data    int64  \n",
      " 1   time_to_failure  float64\n",
      "dtypes: float64(1), int64(1)\n",
      "memory usage: 9.4 GB\n"
     ]
    }
   ],
   "source": [
    "dataset.info()"
   ]
  },
  {
   "cell_type": "code",
   "execution_count": 6,
   "id": "d3c6d3a4-763e-43e0-8d77-8b47a7506739",
   "metadata": {},
   "outputs": [],
   "source": [
    "df = dataset.copy()"
   ]
  },
  {
   "cell_type": "code",
   "execution_count": 7,
   "id": "0ca273e9-1ef1-40bd-b6ce-778fd510f2be",
   "metadata": {},
   "outputs": [
    {
     "data": {
      "text/html": [
       "<div>\n",
       "<style scoped>\n",
       "    .dataframe tbody tr th:only-of-type {\n",
       "        vertical-align: middle;\n",
       "    }\n",
       "\n",
       "    .dataframe tbody tr th {\n",
       "        vertical-align: top;\n",
       "    }\n",
       "\n",
       "    .dataframe thead th {\n",
       "        text-align: right;\n",
       "    }\n",
       "</style>\n",
       "<table border=\"1\" class=\"dataframe\">\n",
       "  <thead>\n",
       "    <tr style=\"text-align: right;\">\n",
       "      <th></th>\n",
       "      <th>acoustic_data</th>\n",
       "      <th>time_to_failure</th>\n",
       "    </tr>\n",
       "  </thead>\n",
       "  <tbody>\n",
       "    <tr>\n",
       "      <th>0</th>\n",
       "      <td>12</td>\n",
       "      <td>1.469100</td>\n",
       "    </tr>\n",
       "    <tr>\n",
       "      <th>1</th>\n",
       "      <td>6</td>\n",
       "      <td>1.469100</td>\n",
       "    </tr>\n",
       "    <tr>\n",
       "      <th>2</th>\n",
       "      <td>8</td>\n",
       "      <td>1.469100</td>\n",
       "    </tr>\n",
       "    <tr>\n",
       "      <th>3</th>\n",
       "      <td>5</td>\n",
       "      <td>1.469100</td>\n",
       "    </tr>\n",
       "    <tr>\n",
       "      <th>4</th>\n",
       "      <td>8</td>\n",
       "      <td>1.469100</td>\n",
       "    </tr>\n",
       "    <tr>\n",
       "      <th>...</th>\n",
       "      <td>...</td>\n",
       "      <td>...</td>\n",
       "    </tr>\n",
       "    <tr>\n",
       "      <th>629145475</th>\n",
       "      <td>7</td>\n",
       "      <td>9.759796</td>\n",
       "    </tr>\n",
       "    <tr>\n",
       "      <th>629145476</th>\n",
       "      <td>9</td>\n",
       "      <td>9.759796</td>\n",
       "    </tr>\n",
       "    <tr>\n",
       "      <th>629145477</th>\n",
       "      <td>10</td>\n",
       "      <td>9.759796</td>\n",
       "    </tr>\n",
       "    <tr>\n",
       "      <th>629145478</th>\n",
       "      <td>6</td>\n",
       "      <td>9.759796</td>\n",
       "    </tr>\n",
       "    <tr>\n",
       "      <th>629145479</th>\n",
       "      <td>5</td>\n",
       "      <td>9.759796</td>\n",
       "    </tr>\n",
       "  </tbody>\n",
       "</table>\n",
       "<p>629145480 rows × 2 columns</p>\n",
       "</div>"
      ],
      "text/plain": [
       "           acoustic_data  time_to_failure\n",
       "0                     12         1.469100\n",
       "1                      6         1.469100\n",
       "2                      8         1.469100\n",
       "3                      5         1.469100\n",
       "4                      8         1.469100\n",
       "...                  ...              ...\n",
       "629145475              7         9.759796\n",
       "629145476              9         9.759796\n",
       "629145477             10         9.759796\n",
       "629145478              6         9.759796\n",
       "629145479              5         9.759796\n",
       "\n",
       "[629145480 rows x 2 columns]"
      ]
     },
     "execution_count": 7,
     "metadata": {},
     "output_type": "execute_result"
    }
   ],
   "source": [
    "df"
   ]
  },
  {
   "cell_type": "markdown",
   "id": "909cad7d-c89b-4f4f-9b6c-f810a213e19d",
   "metadata": {},
   "source": [
    "## EDA"
   ]
  },
  {
   "cell_type": "code",
   "execution_count": 33,
   "id": "f273deb0-a511-46cd-a85a-597775f11971",
   "metadata": {},
   "outputs": [
    {
     "data": {
      "image/png": "[encoded data removed]",
      "text/plain": [
       "<Figure size 864x576 with 2 Axes>"
      ]
     },
     "metadata": {
      "needs_background": "light"
     },
     "output_type": "display_data"
    }
   ],
   "source": [
    "fig, axes1 = plt.subplots(figsize=(12,8))\n",
    "\n",
    "plt.title('Acoustic and Time to Failure')\n",
    "axes1.plot(df['acoustic_data'].values[::100], color='r', label='acoustic_data')\n",
    "axes1.legend(loc=1)\n",
    "\n",
    "axes2 = axes1.twinx()\n",
    "axes2.plot(df['time_to_failure'].values[::100], color='b', label='time_to_failure')\n",
    "axes2.legend(loc=2)\n",
    "\n",
    "plt.grid(True)"
   ]
  },
  {
   "cell_type": "code",
   "execution_count": 42,
   "id": "8b8ed843-b742-4283-a386-a74870e1011a",
   "metadata": {},
   "outputs": [],
   "source": [
    "def generate_featues(X):\n",
    "    features = list()\n",
    "    features.append(X.mean())\n",
    "    features.append(X.std())\n",
    "    features.append(X.skew())\n",
    "    features.append(X.kurtosis())\n",
    "    features.append(X.min())\n",
    "    features.append(np.quantile(X, 0.01))\n",
    "    return pd.Series(features)"
   ]
  },
  {
   "cell_type": "code",
   "execution_count": 64,
   "id": "36f3bc7b-f7a6-4fa5-a673-fe6ba882967e",
   "metadata": {},
   "outputs": [],
   "source": [
    "train = pd.read_csv('train.csv', iterator=True, chunksize=150000)"
   ]
  },
  {
   "cell_type": "markdown",
   "id": "34c2046b-b2d7-40f2-ba33-6884970f48c3",
   "metadata": {},
   "source": [
    "### CatBoost"
   ]
  },
  {
   "cell_type": "code",
   "execution_count": 44,
   "id": "f7bd6c0a-229f-4001-aeb2-9cd5588460ee",
   "metadata": {},
   "outputs": [
    {
     "name": "stderr",
     "output_type": "stream",
     "text": [
      "C:\\Users\\Eashan\\AppData\\Local\\Temp/ipykernel_20668/3572406227.py:2: DeprecationWarning: The default dtype for empty Series will be 'object' instead of 'float64' in a future version. Specify a dtype explicitly to silence this warning.\n",
      "  y_train = pd.Series()\n"
     ]
    }
   ],
   "source": [
    "X_train = pd.DataFrame()\n",
    "y_train = pd.Series()\n",
    "for data in train:\n",
    "    new_features = generate_featues(data['acoustic_data'])\n",
    "    X_train = X_train.append(new_features, ignore_index=True)\n",
    "    y_train = y_train.append(pd.Series(data['time_to_failure'].values[-1]))"
   ]
  },
  {
   "cell_type": "code",
   "execution_count": 84,
   "id": "a0181ff3-563d-4685-9416-88f874854a17",
   "metadata": {},
   "outputs": [
    {
     "name": "stderr",
     "output_type": "stream",
     "text": [
      "Custom logger is already specified. Specify more than one logger at same time is not thread safe."
     ]
    },
    {
     "data": {
      "text/plain": [
       "<catboost.core.CatBoostRegressor at 0x25b827fea60>"
      ]
     },
     "execution_count": 84,
     "metadata": {},
     "output_type": "execute_result"
    }
   ],
   "source": [
    "from catboost import Pool, CatBoostRegressor\n",
    "\n",
    "train_pool = Pool(X_train, y_train)\n",
    "model = CatBoostRegressor(iterations=10000, loss_function='MAE', boosting_type='Ordered')\n",
    "model.fit(X_train, y_train, silent=True)"
   ]
  },
  {
   "cell_type": "code",
   "execution_count": 87,
   "id": "99bd9a11-7395-4548-8a7f-2108b353d1fb",
   "metadata": {},
   "outputs": [
    {
     "data": {
      "text/plain": [
       "{'learn': {'MAE': 1.463164590962654}}"
      ]
     },
     "execution_count": 87,
     "metadata": {},
     "output_type": "execute_result"
    }
   ],
   "source": [
    "model.best_score_"
   ]
  },
  {
   "cell_type": "code",
   "execution_count": 88,
   "id": "2d529636-f55d-4084-b24b-bdb7416f7b56",
   "metadata": {},
   "outputs": [],
   "source": [
    "import os"
   ]
  },
  {
   "cell_type": "code",
   "execution_count": 95,
   "id": "9ab6d054-654c-4e59-a80a-b6da000057e0",
   "metadata": {},
   "outputs": [],
   "source": [
    "test_dir = os.listdir('test')\n",
    "\n",
    "X_test = pd.DataFrame()\n",
    "\n",
    "for file in test_dir:\n",
    "    test = pd.read_csv('test/' + file)\n",
    "    new_features = generate_featues(test['acoustic_data'])\n",
    "\n",
    "    X_test = X_test.append(new_features, ignore_index=True)"
   ]
  },
  {
   "cell_type": "code",
   "execution_count": 106,
   "id": "c4ba2fcc-7d19-4ab4-8993-247d219213c2",
   "metadata": {},
   "outputs": [],
   "source": [
    "y_test = model.predict(X_test)"
   ]
  },
  {
   "cell_type": "code",
   "execution_count": 117,
   "id": "5713235d-3238-45ed-abf6-dc53e308c6d2",
   "metadata": {},
   "outputs": [],
   "source": [
    "test_dir = [d.split('.')[0] for d in test_dir]"
   ]
  },
  {
   "cell_type": "code",
   "execution_count": 118,
   "id": "24bd6cf5-1050-47d4-a7c7-cb5135fc5d0d",
   "metadata": {},
   "outputs": [],
   "source": [
    "sample = pd.DataFrame({'seg_id': pd.Series(test_dir), 'time_to_failure': pd.Series(y_test)})"
   ]
  },
  {
   "cell_type": "code",
   "execution_count": 119,
   "id": "5b219dd1-bc66-4a1f-9a53-c01ab141cad5",
   "metadata": {},
   "outputs": [],
   "source": [
    "sample.to_csv('sample.csv', index=False)"
   ]
  },
  {
   "cell_type": "markdown",
   "id": "a5da4efb-9262-46a7-87f3-b9236714d217",
   "metadata": {},
   "source": [
    "### SVM"
   ]
  },
  {
   "cell_type": "code",
   "execution_count": null,
   "id": "1f97f128-40f4-48f0-943e-d4efeb879644",
   "metadata": {},
   "outputs": [],
   "source": [
    "from sklearn.preprocessing import StandardScaler\n",
    "from sklearn.model_selection import GridSearchCV\n",
    "from sklearn.svm import NuSVR, SVR\n",
    "\n",
    "\n",
    "scaler = StandardScaler()\n",
    "scaler.fit(X_train)\n",
    "X_train_scaled = scaler.transform(X_train)\n",
    "\n",
    "parameters = [{'gamma': [0.001, 0.005, 0.01, 0.02, 0.05, 0.1],\n",
    "               'C': [0.1, 0.2, 0.25, 0.5, 1, 1.5, 2]}]\n",
    "               #'nu': [0.75, 0.8, 0.85, 0.9, 0.95, 0.97]}]\n",
    "\n",
    "reg1 = GridSearchCV(SVR(kernel='rbf', tol=0.01), parameters, cv=5, scoring='neg_mean_absolute_error')\n",
    "reg1.fit(X_train_scaled, y_train.values.flatten())\n",
    "y_pred1 = reg1.predict(X_train_scaled)\n",
    "\n",
    "print(\"Best CV score: {:.4f}\".format(reg1.best_score_))\n",
    "print(reg1.best_params_)"
   ]
  }
 ],
 "metadata": {
  "kernelspec": {
   "display_name": "Python 3 (ipykernel)",
   "language": "python",
   "name": "python3"
  },
  "language_info": {
   "codemirror_mode": {
    "name": "ipython",
    "version": 3
   },
   "file_extension": ".py",
   "mimetype": "text/x-python",
   "name": "python",
   "nbconvert_exporter": "python",
   "pygments_lexer": "ipython3",
   "version": "3.8.8"
  }
 },
 "nbformat": 4,
 "nbformat_minor": 5
}
