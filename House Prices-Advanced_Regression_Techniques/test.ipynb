{
 "cells": [
  {
   "cell_type": "code",
   "execution_count": 1,
   "id": "830f058d",
   "metadata": {},
   "outputs": [],
   "source": [
    "import pandas as pd\n",
    "import numpy as np\n",
    "import matplotlib.pyplot as plt\n",
    "import seaborn as sns"
   ]
  },
  {
   "cell_type": "code",
   "execution_count": 2,
   "id": "6e5c2f42",
   "metadata": {},
   "outputs": [],
   "source": [
    "%matplotlib inline"
   ]
  },
  {
   "cell_type": "code",
   "execution_count": 3,
   "id": "80b6d196",
   "metadata": {},
   "outputs": [],
   "source": [
    "pd.pandas.set_option('display.max_columns', None)"
   ]
  },
  {
   "cell_type": "code",
   "execution_count": 4,
   "id": "00f3eda6",
   "metadata": {},
   "outputs": [],
   "source": [
    "from pickle import load\n",
    "model1 = load(open('model1.pkl', 'rb'))\n",
    "model2 = load(open('model2.pkl', 'rb'))\n",
    "sc = load(open('scaler-1.pkl', 'rb'))\n",
    "sc2 = load(open('scaler-2.pkl', 'rb'))"
   ]
  },
  {
   "cell_type": "code",
   "execution_count": 5,
   "id": "f97ed4d7",
   "metadata": {},
   "outputs": [],
   "source": [
    "test = pd.read_csv('test.csv')\n",
    "\n",
    "columns_with_na = [columns for columns in test.columns if test[columns].isnull().sum() > 1]\n",
    "categoricals_na = [column for column in test.columns if test[column].isnull().sum() >= 1 and test[column].dtype == 'O']\n",
    "numerical_columns = [column for column in test.columns if test[column].dtype != 'O']\n",
    "columns_with_year = [column for column in test.columns if 'Yr' in column or 'Year' in column]\n",
    "discrete_variables = [col for col in numerical_columns if len(test[col].unique()) < 25 and col not in columns_with_year + ['Id']]\n",
    "cont_variables = [col for col in numerical_columns if len(test[col].unique()) > 25 and col not in columns_with_year + ['Id']]\n",
    "categorical_columns = [column for column in test.columns if test[column].dtype == 'O']\n",
    "numericals_na = [column for column in test.columns if test[column].isnull().sum() >= 1 and test[column].dtype != 'O']"
   ]
  },
  {
   "cell_type": "code",
   "execution_count": 6,
   "id": "332a4493",
   "metadata": {},
   "outputs": [],
   "source": [
    "for categorical_na in categoricals_na:\n",
    "    test[categorical_na] = test[categorical_na].fillna(test[categorical_na].value_counts().index[0])"
   ]
  },
  {
   "cell_type": "code",
   "execution_count": 7,
   "id": "e69c2ec0",
   "metadata": {},
   "outputs": [
    {
     "data": {
      "text/plain": [
       "MSZoning        0\n",
       "Alley           0\n",
       "Utilities       0\n",
       "Exterior1st     0\n",
       "Exterior2nd     0\n",
       "MasVnrType      0\n",
       "BsmtQual        0\n",
       "BsmtCond        0\n",
       "BsmtExposure    0\n",
       "BsmtFinType1    0\n",
       "BsmtFinType2    0\n",
       "KitchenQual     0\n",
       "Functional      0\n",
       "FireplaceQu     0\n",
       "GarageType      0\n",
       "GarageFinish    0\n",
       "GarageQual      0\n",
       "GarageCond      0\n",
       "PoolQC          0\n",
       "Fence           0\n",
       "MiscFeature     0\n",
       "SaleType        0\n",
       "dtype: int64"
      ]
     },
     "execution_count": 7,
     "metadata": {},
     "output_type": "execute_result"
    }
   ],
   "source": [
    "test[categoricals_na].isnull().sum()"
   ]
  },
  {
   "cell_type": "code",
   "execution_count": 8,
   "id": "8e6ac01b",
   "metadata": {},
   "outputs": [],
   "source": [
    "for numerical_na in numericals_na:\n",
    "    test[numerical_na] = test[numerical_na].fillna(test[numerical_na].median())"
   ]
  },
  {
   "cell_type": "code",
   "execution_count": 9,
   "id": "7c91ebec",
   "metadata": {},
   "outputs": [
    {
     "data": {
      "text/plain": [
       "LotFrontage     0\n",
       "MasVnrArea      0\n",
       "BsmtFinSF1      0\n",
       "BsmtFinSF2      0\n",
       "BsmtUnfSF       0\n",
       "TotalBsmtSF     0\n",
       "BsmtFullBath    0\n",
       "BsmtHalfBath    0\n",
       "GarageYrBlt     0\n",
       "GarageCars      0\n",
       "GarageArea      0\n",
       "dtype: int64"
      ]
     },
     "execution_count": 9,
     "metadata": {},
     "output_type": "execute_result"
    }
   ],
   "source": [
    "test[numericals_na].isnull().sum()"
   ]
  },
  {
   "cell_type": "code",
   "execution_count": 10,
   "id": "4ee510c6",
   "metadata": {},
   "outputs": [],
   "source": [
    "for column_with_year in columns_with_year:\n",
    "    if column_with_year != 'YrSold':\n",
    "        test[column_with_year + '_YrSold'] = test['YrSold'] - test[column_with_year]\n",
    "        \n",
    "        test.drop([column_with_year], axis=1, inplace=True)\n",
    "        numerical_columns.remove(column_with_year)\n",
    "        numerical_columns.append(column_with_year + '_YrSold')"
   ]
  },
  {
   "cell_type": "code",
   "execution_count": null,
   "id": "89f22baa",
   "metadata": {},
   "outputs": [],
   "source": [
    "import scipy.stats as stats\n",
    "\n",
    "for cont_variable in cont_variables:\n",
    "    if 0 not in dataset[cont_variable].unique():\n",
    "        dataset[cont_variable], param = stats.boxcox(dataset[cont_variable]+1)"
   ]
  },
  {
   "cell_type": "code",
   "execution_count": 11,
   "id": "d07d91e1",
   "metadata": {},
   "outputs": [],
   "source": [
    "# from scipy.stats import skew\n",
    "\n",
    "# skewed = test[cont_variables].apply(lambda x: skew(x.dropna().astype(float)))\n",
    "# skewed = skewed[skewed > 0.75]\n",
    "# skewed = skewed.index\n",
    "\n",
    "# test[skewed] = np.log1p(test[skewed])"
   ]
  },
  {
   "cell_type": "code",
   "execution_count": 12,
   "id": "2da597e6",
   "metadata": {},
   "outputs": [],
   "source": [
    "# for cont_variable in cont_variables:\n",
    "#     if 0 not in test[cont_variable].unique():\n",
    "#         test[cont_variable] = np.log(test[cont_variable])"
   ]
  },
  {
   "cell_type": "code",
   "execution_count": 13,
   "id": "4a9513b5",
   "metadata": {},
   "outputs": [],
   "source": [
    "numerical_columns.remove('Id')\n",
    "\n",
    "categorical_columns_encoded = pd.get_dummies(test[categorical_columns])\n",
    "\n",
    "# test_data = pd.concat([test[numerical_columns], categorical_columns_encoded], axis=1)"
   ]
  },
  {
   "cell_type": "code",
   "execution_count": 14,
   "id": "0355185c",
   "metadata": {},
   "outputs": [],
   "source": [
    "numerical_df = pd.DataFrame(sc.transform(test[numerical_columns]), columns=numerical_columns)"
   ]
  },
  {
   "cell_type": "code",
   "execution_count": 15,
   "id": "30929f79",
   "metadata": {},
   "outputs": [],
   "source": [
    "X_test = pd.concat([numerical_df, categorical_columns_encoded], axis=1)"
   ]
  },
  {
   "cell_type": "code",
   "execution_count": 16,
   "id": "6db2c38e",
   "metadata": {},
   "outputs": [],
   "source": [
    "# X_test = pd.DataFrame(sc.transform(test_data), columns=test_data.columns)"
   ]
  },
  {
   "cell_type": "code",
   "execution_count": 17,
   "id": "0d432ab5",
   "metadata": {},
   "outputs": [],
   "source": [
    "X_train = pd.read_csv('X_train.csv')\n",
    "# feature_sel_model = load(open('feature.pkl', 'rb'))"
   ]
  },
  {
   "cell_type": "code",
   "execution_count": 18,
   "id": "2bc37827",
   "metadata": {},
   "outputs": [],
   "source": [
    "# selected_feat = X_train.columns[(feature_sel_model.get_support())]"
   ]
  },
  {
   "cell_type": "code",
   "execution_count": 19,
   "id": "2210f742",
   "metadata": {},
   "outputs": [],
   "source": [
    "# X_test = X_test[selected_feat]"
   ]
  },
  {
   "cell_type": "code",
   "execution_count": 20,
   "id": "052e8b36",
   "metadata": {},
   "outputs": [],
   "source": [
    "y1 = model1.predict(X_test)\n",
    "y2 = model2.predict(X_test)"
   ]
  },
  {
   "cell_type": "code",
   "execution_count": 21,
   "id": "0c81f2e6",
   "metadata": {},
   "outputs": [],
   "source": [
    "y1 = sc2.inverse_transform(model1.predict(X_test).reshape(-1,1))"
   ]
  },
  {
   "cell_type": "code",
   "execution_count": 22,
   "id": "c2912ca8",
   "metadata": {},
   "outputs": [],
   "source": [
    "y2 = sc2.inverse_transform(model2.predict(X_test).reshape(-1,1))"
   ]
  },
  {
   "cell_type": "code",
   "execution_count": 23,
   "id": "13d79d74",
   "metadata": {},
   "outputs": [],
   "source": [
    "y_test = (y1 + y2) / 2"
   ]
  },
  {
   "cell_type": "code",
   "execution_count": 24,
   "id": "512d3536",
   "metadata": {},
   "outputs": [],
   "source": [
    "y_test = np.exp(y_test)"
   ]
  },
  {
   "cell_type": "code",
   "execution_count": 25,
   "id": "7cba5ab7",
   "metadata": {},
   "outputs": [
    {
     "data": {
      "text/plain": [
       "(1459, 1)"
      ]
     },
     "execution_count": 25,
     "metadata": {},
     "output_type": "execute_result"
    }
   ],
   "source": [
    "y_test.shape"
   ]
  },
  {
   "cell_type": "code",
   "execution_count": 26,
   "id": "d8455015",
   "metadata": {},
   "outputs": [],
   "source": [
    "original_dataset = pd.read_csv('test.csv')\n",
    "\n",
    "sample_submission = pd.DataFrame({'Id': original_dataset['Id'], 'SalePrice': y_test.reshape(1, -1)[0]})\n",
    "\n",
    "sample_submission.to_csv('sample_submission.csv', index=False)"
   ]
  },
  {
   "cell_type": "code",
   "execution_count": null,
   "id": "b1fc3bb7",
   "metadata": {},
   "outputs": [],
   "source": []
  }
 ],
 "metadata": {
  "kernelspec": {
   "display_name": "Python 3 (ipykernel)",
   "language": "python",
   "name": "python3"
  },
  "language_info": {
   "codemirror_mode": {
    "name": "ipython",
    "version": 3
   },
   "file_extension": ".py",
   "mimetype": "text/x-python",
   "name": "python",
   "nbconvert_exporter": "python",
   "pygments_lexer": "ipython3",
   "version": "3.8.8"
  }
 },
 "nbformat": 4,
 "nbformat_minor": 5
}
