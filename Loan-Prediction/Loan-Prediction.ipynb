{
 "cells": [
  {
   "cell_type": "markdown",
   "id": "fantastic-newspaper",
   "metadata": {},
   "source": [
    "# Load Prediction"
   ]
  },
  {
   "cell_type": "markdown",
   "id": "vocal-surfing",
   "metadata": {},
   "source": [
    "## Import Libraries"
   ]
  },
  {
   "cell_type": "code",
   "execution_count": 1,
   "id": "excited-lafayette",
   "metadata": {},
   "outputs": [],
   "source": [
    "import pandas as pd\n",
    "import numpy as np\n",
    "import seaborn as sns\n",
    "import matplotlib.pyplot as plt"
   ]
  },
  {
   "cell_type": "code",
   "execution_count": 2,
   "id": "caring-swift",
   "metadata": {},
   "outputs": [],
   "source": [
    "%matplotlib inline"
   ]
  },
  {
   "cell_type": "raw",
   "id": "round-organic",
   "metadata": {},
   "source": [
    "import warnings\n",
    "warnings.filterwarnings('ig')"
   ]
  },
  {
   "cell_type": "markdown",
   "id": "fossil-force",
   "metadata": {},
   "source": [
    "Steps to be followed:<br>\n",
    "    1. Understanding the problem statement.<br>\n",
    "    2. Hypothesis Generation.<br>\n",
    "    3. Getting the system ready and loading the data.<br>\n",
    "    4. Understanding the data.<br>\n",
    "    5. Exploratory Data Analysis(EDA).<br>\n",
    "        Univariate Analysis<br>\n",
    "        Bivariate Analysis<br>\n",
    "    6. Missing value and outlier.<br>\n",
    "    7. Evaluation metrics.<br>\n",
    "    8. Model building -1 (Most easy model).<br>\n",
    "    9. k-fold cross validation.<br>\n",
    "    10. Feature Engineering.<br>\n",
    "    11. Model building -2 (Comparison).<br>"
   ]
  },
  {
   "cell_type": "markdown",
   "id": "brutal-muslim",
   "metadata": {},
   "source": [
    "##  Exploratory Data Analysis (EDA)"
   ]
  },
  {
   "cell_type": "code",
   "execution_count": 3,
   "id": "utility-journalism",
   "metadata": {},
   "outputs": [],
   "source": [
    "train = pd.read_csv('train.csv')\n",
    "test = pd.read_csv('test.csv')"
   ]
  },
  {
   "cell_type": "code",
   "execution_count": 4,
   "id": "subtle-bowling",
   "metadata": {},
   "outputs": [],
   "source": [
    "train_copy = train.copy()\n",
    "test_copy = test.copy()"
   ]
  },
  {
   "cell_type": "code",
   "execution_count": 5,
   "id": "intermediate-footage",
   "metadata": {},
   "outputs": [
    {
     "data": {
      "text/plain": [
       "Index(['Loan_ID', 'Gender', 'Married', 'Dependents', 'Education',\n",
       "       'Self_Employed', 'ApplicantIncome', 'CoapplicantIncome', 'LoanAmount',\n",
       "       'Loan_Amount_Term', 'Credit_History', 'Property_Area', 'Loan_Status'],\n",
       "      dtype='object')"
      ]
     },
     "execution_count": 5,
     "metadata": {},
     "output_type": "execute_result"
    }
   ],
   "source": [
    "train_copy.columns"
   ]
  },
  {
   "cell_type": "code",
   "execution_count": 6,
   "id": "limited-grammar",
   "metadata": {},
   "outputs": [
    {
     "data": {
      "text/plain": [
       "Index(['Loan_ID', 'Gender', 'Married', 'Dependents', 'Education',\n",
       "       'Self_Employed', 'ApplicantIncome', 'CoapplicantIncome', 'LoanAmount',\n",
       "       'Loan_Amount_Term', 'Credit_History', 'Property_Area'],\n",
       "      dtype='object')"
      ]
     },
     "execution_count": 6,
     "metadata": {},
     "output_type": "execute_result"
    }
   ],
   "source": [
    "test_copy.columns"
   ]
  },
  {
   "cell_type": "code",
   "execution_count": 7,
   "id": "invisible-amber",
   "metadata": {},
   "outputs": [
    {
     "name": "stdout",
     "output_type": "stream",
     "text": [
      "<class 'pandas.core.frame.DataFrame'>\n",
      "RangeIndex: 614 entries, 0 to 613\n",
      "Data columns (total 13 columns):\n",
      " #   Column             Non-Null Count  Dtype  \n",
      "---  ------             --------------  -----  \n",
      " 0   Loan_ID            614 non-null    object \n",
      " 1   Gender             601 non-null    object \n",
      " 2   Married            611 non-null    object \n",
      " 3   Dependents         599 non-null    object \n",
      " 4   Education          614 non-null    object \n",
      " 5   Self_Employed      582 non-null    object \n",
      " 6   ApplicantIncome    614 non-null    int64  \n",
      " 7   CoapplicantIncome  614 non-null    float64\n",
      " 8   LoanAmount         592 non-null    float64\n",
      " 9   Loan_Amount_Term   600 non-null    float64\n",
      " 10  Credit_History     564 non-null    float64\n",
      " 11  Property_Area      614 non-null    object \n",
      " 12  Loan_Status        614 non-null    object \n",
      "dtypes: float64(4), int64(1), object(8)\n",
      "memory usage: 62.5+ KB\n"
     ]
    }
   ],
   "source": [
    "train_copy.info()"
   ]
  },
  {
   "cell_type": "code",
   "execution_count": 8,
   "id": "muslim-outline",
   "metadata": {},
   "outputs": [
    {
     "data": {
      "text/plain": [
       "<matplotlib.axes._subplots.AxesSubplot at 0x26e90da5dc8>"
      ]
     },
     "execution_count": 8,
     "metadata": {},
     "output_type": "execute_result"
    },
    {
     "data": {
      "image/png": "[encoded data removed]",
      "text/plain": [
       "<Figure size 432x288 with 1 Axes>"
      ]
     },
     "metadata": {
      "needs_background": "light"
     },
     "output_type": "display_data"
    }
   ],
   "source": [
    "sns.countplot(x='Loan_Status', data=train)"
   ]
  },
  {
   "cell_type": "markdown",
   "id": "later-smooth",
   "metadata": {},
   "source": [
    "### Univariate Data Analysis"
   ]
  },
  {
   "cell_type": "markdown",
   "id": "sweet-medicaid",
   "metadata": {},
   "source": [
    "#### CATEGORICAL"
   ]
  },
  {
   "cell_type": "code",
   "execution_count": 9,
   "id": "figured-processor",
   "metadata": {},
   "outputs": [
    {
     "data": {
      "image/png": "[encoded data removed]",
      "text/plain": [
       "<Figure size 432x288 with 1 Axes>"
      ]
     },
     "metadata": {
      "needs_background": "light"
     },
     "output_type": "display_data"
    }
   ],
   "source": [
    "train_copy.Gender.value_counts(normalize=True).plot.bar()\n",
    "plt.xlabel('Value Counts')\n",
    "plt.ylabel('Probability')\n",
    "plt.show()"
   ]
  },
  {
   "cell_type": "code",
   "execution_count": 10,
   "id": "consecutive-channels",
   "metadata": {},
   "outputs": [
    {
     "data": {
      "image/png": "[encoded data removed]",
      "text/plain": [
       "<Figure size 432x288 with 1 Axes>"
      ]
     },
     "metadata": {
      "needs_background": "light"
     },
     "output_type": "display_data"
    }
   ],
   "source": [
    "train_copy.Married.value_counts(normalize=True).plot.bar()\n",
    "plt.xlabel('Value Counts')\n",
    "plt.ylabel('Probability')\n",
    "plt.show()"
   ]
  },
  {
   "cell_type": "code",
   "execution_count": 11,
   "id": "advanced-service",
   "metadata": {},
   "outputs": [
    {
     "data": {
      "image/png": "[encoded data removed]",
      "text/plain": [
       "<Figure size 432x288 with 1 Axes>"
      ]
     },
     "metadata": {
      "needs_background": "light"
     },
     "output_type": "display_data"
    }
   ],
   "source": [
    "train_copy.Dependents.value_counts(normalize=True).plot.bar()\n",
    "plt.xlabel('Value Counts')\n",
    "plt.ylabel('Probability')\n",
    "plt.show()"
   ]
  },
  {
   "cell_type": "code",
   "execution_count": 12,
   "id": "norman-feeling",
   "metadata": {},
   "outputs": [
    {
     "data": {
      "image/png": "[encoded data removed]",
      "text/plain": [
       "<Figure size 432x288 with 1 Axes>"
      ]
     },
     "metadata": {
      "needs_background": "light"
     },
     "output_type": "display_data"
    }
   ],
   "source": [
    "train_copy.Education.value_counts(normalize=True).plot.bar()\n",
    "plt.xlabel('Value Counts')\n",
    "plt.ylabel('Probability')\n",
    "plt.show()"
   ]
  },
  {
   "cell_type": "code",
   "execution_count": 13,
   "id": "rapid-spirituality",
   "metadata": {},
   "outputs": [
    {
     "data": {
      "image/png": "[encoded data removed]",
      "text/plain": [
       "<Figure size 432x288 with 1 Axes>"
      ]
     },
     "metadata": {
      "needs_background": "light"
     },
     "output_type": "display_data"
    }
   ],
   "source": [
    "train_copy.Self_Employed.value_counts(normalize=True).plot.bar()\n",
    "plt.xlabel('Value Counts')\n",
    "plt.ylabel('Probability')\n",
    "plt.show()"
   ]
  },
  {
   "cell_type": "code",
   "execution_count": 14,
   "id": "considered-bolivia",
   "metadata": {},
   "outputs": [
    {
     "data": {
      "image/png": "[encoded data removed]",
      "text/plain": [
       "<Figure size 432x288 with 1 Axes>"
      ]
     },
     "metadata": {
      "needs_background": "light"
     },
     "output_type": "display_data"
    }
   ],
   "source": [
    "train_copy.Property_Area.value_counts(normalize=True).plot.bar()\n",
    "plt.xlabel('Value Counts')\n",
    "plt.ylabel('Probability')\n",
    "plt.show()"
   ]
  },
  {
   "cell_type": "code",
   "execution_count": 15,
   "id": "committed-exception",
   "metadata": {},
   "outputs": [
    {
     "data": {
      "image/png": "[encoded data removed]",
      "text/plain": [
       "<Figure size 432x288 with 1 Axes>"
      ]
     },
     "metadata": {
      "needs_background": "light"
     },
     "output_type": "display_data"
    }
   ],
   "source": [
    "train_copy.Loan_Status.value_counts(normalize=True).plot.bar()\n",
    "plt.xlabel('Value Counts')\n",
    "plt.ylabel('Probability')\n",
    "plt.show()"
   ]
  },
  {
   "cell_type": "markdown",
   "id": "enclosed-minnesota",
   "metadata": {},
   "source": [
    "#### NUMERICAL"
   ]
  },
  {
   "cell_type": "code",
   "execution_count": null,
   "id": "adjustable-precipitation",
   "metadata": {},
   "outputs": [],
   "source": []
  },
  {
   "cell_type": "code",
   "execution_count": 16,
   "id": "spanish-headquarters",
   "metadata": {},
   "outputs": [
    {
     "data": {
      "image/png": "[encoded data removed]",
      "text/plain": [
       "<Figure size 360x360 with 1 Axes>"
      ]
     },
     "metadata": {
      "needs_background": "light"
     },
     "output_type": "display_data"
    }
   ],
   "source": [
    "sns.displot(train_copy.ApplicantIncome, kde='True')\n",
    "plt.show()"
   ]
  },
  {
   "cell_type": "code",
   "execution_count": 17,
   "id": "aboriginal-promise",
   "metadata": {},
   "outputs": [
    {
     "data": {
      "image/png": "[encoded data removed]",
      "text/plain": [
       "<Figure size 360x360 with 1 Axes>"
      ]
     },
     "metadata": {
      "needs_background": "light"
     },
     "output_type": "display_data"
    }
   ],
   "source": [
    "sns.displot(train_copy.ApplicantIncome, kde='True')\n",
    "plt.show()"
   ]
  },
  {
   "cell_type": "code",
   "execution_count": 18,
   "id": "increasing-america",
   "metadata": {},
   "outputs": [
    {
     "data": {
      "image/png": "[encoded data removed]",
      "text/plain": [
       "<Figure size 360x360 with 1 Axes>"
      ]
     },
     "metadata": {
      "needs_background": "light"
     },
     "output_type": "display_data"
    }
   ],
   "source": [
    "sns.displot(train_copy.LoanAmount, kde='True')\n",
    "plt.show()"
   ]
  },
  {
   "cell_type": "code",
   "execution_count": 19,
   "id": "irish-julian",
   "metadata": {},
   "outputs": [
    {
     "data": {
      "image/png": "[encoded data removed]",
      "text/plain": [
       "<Figure size 360x360 with 1 Axes>"
      ]
     },
     "metadata": {
      "needs_background": "light"
     },
     "output_type": "display_data"
    }
   ],
   "source": [
    "sns.displot(train_copy.Loan_Amount_Term, kde='True')\n",
    "plt.show()"
   ]
  },
  {
   "cell_type": "code",
   "execution_count": 20,
   "id": "personalized-sandwich",
   "metadata": {},
   "outputs": [
    {
     "data": {
      "image/png": "[encoded data removed]",
      "text/plain": [
       "<Figure size 360x360 with 1 Axes>"
      ]
     },
     "metadata": {
      "needs_background": "light"
     },
     "output_type": "display_data"
    }
   ],
   "source": [
    "sns.displot(train_copy.Credit_History, kde='True')\n",
    "plt.show()"
   ]
  },
  {
   "cell_type": "markdown",
   "id": "solved-problem",
   "metadata": {},
   "source": [
    "### Bivariate Analysis"
   ]
  },
  {
   "cell_type": "code",
   "execution_count": 21,
   "id": "valued-disabled",
   "metadata": {},
   "outputs": [],
   "source": [
    "train.Dependents.replace('3+', 4, inplace=True)\n",
    "test.Dependents.replace('3+', 4, inplace=True)\n",
    "\n",
    "train.Dependents.replace('3', 3, inplace=True)\n",
    "test.Dependents.replace('3', 3, inplace=True)\n",
    "\n",
    "train.Dependents.replace('2', 2, inplace=True)\n",
    "test.Dependents.replace('2', 2, inplace=True)\n",
    "\n",
    "train.Dependents.replace('1', 1, inplace=True)\n",
    "test.Dependents.replace('1', 1, inplace=True)\n",
    "\n",
    "train.Dependents.replace('0', 0, inplace=True)\n",
    "test.Dependents.replace('0', 0, inplace=True)\n",
    "\n",
    "train.Loan_Status.replace('Y', 1, inplace=True)\n",
    "train.Loan_Status.replace('N', 0, inplace=True)"
   ]
  },
  {
   "cell_type": "code",
   "execution_count": 22,
   "id": "negative-kennedy",
   "metadata": {},
   "outputs": [
    {
     "data": {
      "text/plain": [
       "<matplotlib.axes._subplots.AxesSubplot at 0x26e8f9def48>"
      ]
     },
     "execution_count": 22,
     "metadata": {},
     "output_type": "execute_result"
    },
    {
     "data": {
      "image/png": "[encoded data removed]",
      "text/plain": [
       "<Figure size 1152x720 with 2 Axes>"
      ]
     },
     "metadata": {
      "needs_background": "light"
     },
     "output_type": "display_data"
    }
   ],
   "source": [
    "plt.figure(figsize=(16,10))\n",
    "sns.heatmap(train.corr(), cmap='BuPu', annot=True)"
   ]
  },
  {
   "cell_type": "markdown",
   "id": "graduate-playlist",
   "metadata": {},
   "source": [
    "## Null Values"
   ]
  },
  {
   "cell_type": "code",
   "execution_count": 23,
   "id": "promotional-exercise",
   "metadata": {},
   "outputs": [
    {
     "data": {
      "text/plain": [
       "Loan_ID               0\n",
       "Gender               13\n",
       "Married               3\n",
       "Dependents           15\n",
       "Education             0\n",
       "Self_Employed        32\n",
       "ApplicantIncome       0\n",
       "CoapplicantIncome     0\n",
       "LoanAmount           22\n",
       "Loan_Amount_Term     14\n",
       "Credit_History       50\n",
       "Property_Area         0\n",
       "Loan_Status           0\n",
       "dtype: int64"
      ]
     },
     "execution_count": 23,
     "metadata": {},
     "output_type": "execute_result"
    }
   ],
   "source": [
    "train.isnull().sum()"
   ]
  },
  {
   "cell_type": "code",
   "execution_count": 24,
   "id": "danish-corporation",
   "metadata": {},
   "outputs": [
    {
     "data": {
      "text/plain": [
       "Loan_ID               0\n",
       "Gender               11\n",
       "Married               0\n",
       "Dependents           10\n",
       "Education             0\n",
       "Self_Employed        23\n",
       "ApplicantIncome       0\n",
       "CoapplicantIncome     0\n",
       "LoanAmount            5\n",
       "Loan_Amount_Term      6\n",
       "Credit_History       29\n",
       "Property_Area         0\n",
       "dtype: int64"
      ]
     },
     "execution_count": 24,
     "metadata": {},
     "output_type": "execute_result"
    }
   ],
   "source": [
    "test.isnull().sum()"
   ]
  },
  {
   "cell_type": "markdown",
   "id": "induced-addiction",
   "metadata": {},
   "source": [
    "## Categorical - Mode"
   ]
  },
  {
   "cell_type": "code",
   "execution_count": 25,
   "id": "accomplished-tucson",
   "metadata": {},
   "outputs": [],
   "source": [
    "train.Gender.fillna(train.Gender.mode()[0], inplace=True)\n",
    "train.Married.fillna(train.Married.mode()[0], inplace=True)\n",
    "train.Dependents.fillna(train.Dependents.mode()[0], inplace=True)\n",
    "train.Self_Employed.fillna(train.Self_Employed.mode()[0], inplace=True)"
   ]
  },
  {
   "cell_type": "code",
   "execution_count": 26,
   "id": "electric-detroit",
   "metadata": {},
   "outputs": [],
   "source": [
    "test.Gender.fillna(test.Gender.mode()[0], inplace=True)\n",
    "test.Dependents.fillna(test.Dependents.mode()[0], inplace=True)\n",
    "test.Self_Employed.fillna(test.Self_Employed.mode()[0], inplace=True)"
   ]
  },
  {
   "cell_type": "markdown",
   "id": "local-violation",
   "metadata": {},
   "source": [
    "## Numerical - Mean/Median"
   ]
  },
  {
   "cell_type": "code",
   "execution_count": 27,
   "id": "answering-message",
   "metadata": {},
   "outputs": [],
   "source": [
    "train.LoanAmount.fillna(train.LoanAmount.median(), inplace=True)\n",
    "train.Loan_Amount_Term.fillna(train.Loan_Amount_Term.median(), inplace=True)\n",
    "train.Credit_History.fillna(train.Credit_History.median(), inplace=True)"
   ]
  },
  {
   "cell_type": "code",
   "execution_count": 28,
   "id": "tribal-event",
   "metadata": {},
   "outputs": [],
   "source": [
    "test.LoanAmount.fillna(test.LoanAmount.median(), inplace=True)\n",
    "test.Loan_Amount_Term.fillna(test.Loan_Amount_Term.median(), inplace=True)\n",
    "test.Credit_History.fillna(test.Credit_History.median(), inplace=True)"
   ]
  },
  {
   "cell_type": "markdown",
   "id": "liable-developer",
   "metadata": {},
   "source": [
    "## Outlier Detection - Log"
   ]
  },
  {
   "cell_type": "code",
   "execution_count": 29,
   "id": "therapeutic-block",
   "metadata": {},
   "outputs": [],
   "source": [
    "train['LoanAmount_log'] = np.log(train.LoanAmount)\n",
    "test['LoanAmount_log'] = np.log(test.LoanAmount)"
   ]
  },
  {
   "cell_type": "markdown",
   "id": "numerous-thailand",
   "metadata": {},
   "source": [
    "## Feature Engineering"
   ]
  },
  {
   "cell_type": "code",
   "execution_count": 30,
   "id": "tracked-startup",
   "metadata": {},
   "outputs": [],
   "source": [
    "train['Total_Income'] = (train.ApplicantIncome + train.CoapplicantIncome)\n",
    "test['Total_Income'] = (test.ApplicantIncome + test.CoapplicantIncome)"
   ]
  },
  {
   "cell_type": "code",
   "execution_count": 31,
   "id": "postal-training",
   "metadata": {},
   "outputs": [],
   "source": [
    "train['EMI'] = (train.LoanAmount / train.Loan_Amount_Term)\n",
    "test['EMI'] = (test.LoanAmount / test.Loan_Amount_Term)"
   ]
  },
  {
   "cell_type": "code",
   "execution_count": 32,
   "id": "round-novel",
   "metadata": {},
   "outputs": [],
   "source": [
    "train['Balance'] = train.Total_Income - train.EMI * 1000\n",
    "test['Balance'] = test.Total_Income - test.EMI * 1000"
   ]
  },
  {
   "cell_type": "code",
   "execution_count": 33,
   "id": "generous-celebrity",
   "metadata": {},
   "outputs": [],
   "source": [
    "train.Total_Income = np.log(train.Total_Income)\n",
    "test.Total_Income = np.log(test.Total_Income)"
   ]
  },
  {
   "cell_type": "code",
   "execution_count": 34,
   "id": "personalized-spring",
   "metadata": {},
   "outputs": [],
   "source": [
    "train.drop(['LoanAmount', 'ApplicantIncome', 'CoapplicantIncome', 'Loan_Amount_Term'], axis=1, inplace=True)\n",
    "test.drop(['LoanAmount', 'ApplicantIncome', 'CoapplicantIncome', 'Loan_Amount_Term'], axis=1, inplace=True)"
   ]
  },
  {
   "cell_type": "markdown",
   "id": "corresponding-powder",
   "metadata": {},
   "source": [
    "## Data split"
   ]
  },
  {
   "cell_type": "code",
   "execution_count": 35,
   "id": "hindu-island",
   "metadata": {},
   "outputs": [],
   "source": [
    "train.Married.replace('No', 0, inplace=True)\n",
    "train.Married.replace('Yes', 1, inplace=True)\n",
    "\n",
    "train.Self_Employed.replace('No', 0, inplace=True)\n",
    "train.Self_Employed.replace('Yes', 1, inplace=True)\n",
    "\n",
    "test.Married.replace('No', 0, inplace=True)\n",
    "test.Married.replace('Yes', 1, inplace=True)\n",
    "\n",
    "test.Self_Employed.replace('No', 0, inplace=True)\n",
    "test.Self_Employed.replace('Yes', 1, inplace=True)"
   ]
  },
  {
   "cell_type": "code",
   "execution_count": 36,
   "id": "bridal-watson",
   "metadata": {},
   "outputs": [],
   "source": [
    "X_train = train.iloc[:, [1,2,3,4,5,6,7,9,10,11,12]].values\n",
    "y_train = train.iloc[:, 8].values"
   ]
  },
  {
   "cell_type": "code",
   "execution_count": 37,
   "id": "worldwide-listing",
   "metadata": {},
   "outputs": [],
   "source": [
    "pred = test.iloc[:, 1:].values"
   ]
  },
  {
   "cell_type": "code",
   "execution_count": 38,
   "id": "historic-billy",
   "metadata": {},
   "outputs": [],
   "source": [
    "from sklearn.compose import  ColumnTransformer\n",
    "from sklearn.preprocessing import OneHotEncoder\n",
    "\n",
    "transformer = ColumnTransformer(transformers=[('encoder', OneHotEncoder(), [0, 3, 6])], remainder='passthrough')\n",
    "X_train = transformer.fit_transform(X_train)\n",
    "\n",
    "transformer_pred = ColumnTransformer(transformers=[('encoder', OneHotEncoder(), [0, 3, 6])], remainder='passthrough')\n",
    "\n",
    "pred = transformer_pred.fit_transform(pred)"
   ]
  },
  {
   "cell_type": "code",
   "execution_count": 39,
   "id": "middle-drove",
   "metadata": {},
   "outputs": [],
   "source": [
    "from imblearn.combine import SMOTETomek\n",
    "\n",
    "smk = SMOTETomek()\n",
    "\n",
    "X_train, y_train = smk.fit_resample(X_train, y_train)"
   ]
  },
  {
   "cell_type": "code",
   "execution_count": 40,
   "id": "funky-shade",
   "metadata": {},
   "outputs": [],
   "source": [
    "from sklearn.preprocessing import StandardScaler\n",
    "\n",
    "scaler = StandardScaler()\n",
    " \n",
    "X_train[:, 11:] = scaler.fit_transform(X_train[:, 11:])\n",
    "pred[:, 11:] = scaler.transform(pred[:, 11:])"
   ]
  },
  {
   "cell_type": "markdown",
   "id": "narrative-cheat",
   "metadata": {},
   "source": [
    "# Model"
   ]
  },
  {
   "cell_type": "code",
   "execution_count": 41,
   "id": "talented-shoot",
   "metadata": {},
   "outputs": [
    {
     "data": {
      "text/plain": [
       "RandomForestClassifier()"
      ]
     },
     "execution_count": 41,
     "metadata": {},
     "output_type": "execute_result"
    }
   ],
   "source": [
    "from sklearn.ensemble import RandomForestClassifier\n",
    "classifier = RandomForestClassifier()\n",
    "classifier.fit(X_train, y_train)"
   ]
  },
  {
   "cell_type": "markdown",
   "id": "joined-player",
   "metadata": {},
   "source": [
    "# Testing"
   ]
  },
  {
   "cell_type": "code",
   "execution_count": 43,
   "id": "unlike-crash",
   "metadata": {},
   "outputs": [],
   "source": [
    "y_pred = classifier.predict(pred)"
   ]
  },
  {
   "cell_type": "code",
   "execution_count": 44,
   "id": "adaptive-gregory",
   "metadata": {},
   "outputs": [
    {
     "data": {
      "text/plain": [
       "array([1, 1, 1, 0, 0, 1, 1, 0, 1, 1, 1, 1, 1, 0, 1, 1, 1, 1, 1, 1, 1, 0,\n",
       "       1, 1, 1, 0, 1, 1, 1, 1, 1, 1, 1, 1, 1, 0, 1, 1, 1, 1, 1, 1, 1, 1,\n",
       "       1, 1, 0, 1, 1, 1, 1, 1, 1, 1, 1, 0, 1, 1, 0, 1, 1, 1, 1, 0, 1, 1,\n",
       "       0, 0, 1, 0, 1, 1, 1, 1, 1, 1, 1, 1, 1, 1, 0, 1, 0, 1, 0, 1, 1, 1,\n",
       "       1, 1, 1, 1, 1, 1, 0, 1, 0, 1, 1, 1, 1, 0, 1, 1, 1, 1, 0, 1, 1, 0,\n",
       "       1, 1, 1, 1, 0, 1, 1, 0, 0, 0, 0, 1, 1, 0, 0, 1, 0, 1, 0, 1, 1, 1,\n",
       "       1, 1, 0, 1, 1, 1, 1, 1, 0, 1, 0, 1, 1, 1, 1, 0, 1, 1, 1, 1, 1, 0,\n",
       "       1, 1, 1, 1, 1, 0, 1, 0, 1, 1, 1, 0, 0, 1, 0, 1, 1, 1, 1, 0, 0, 1,\n",
       "       1, 1, 1, 1, 1, 1, 1, 0, 1, 1, 1, 1, 1, 1, 0, 1, 0, 0, 1, 1, 0, 1,\n",
       "       0, 1, 1, 1, 1, 1, 1, 1, 1, 1, 1, 1, 0, 0, 1, 1, 1, 1, 1, 1, 1, 1,\n",
       "       1, 1, 1, 1, 0, 1, 1, 1, 1, 0, 1, 1, 1, 1, 1, 0, 0, 1, 1, 1, 1, 0,\n",
       "       1, 0, 1, 0, 1, 1, 1, 1, 0, 1, 1, 1, 1, 0, 1, 1, 1, 1, 0, 1, 1, 0,\n",
       "       1, 1, 0, 0, 0, 1, 1, 0, 0, 0, 0, 1, 1, 1, 0, 1, 1, 1, 1, 0, 0, 1,\n",
       "       1, 1, 1, 1, 1, 1, 1, 0, 1, 1, 1, 1, 1, 1, 1, 0, 0, 1, 1, 1, 1, 1,\n",
       "       1, 1, 1, 0, 1, 1, 1, 1, 1, 0, 1, 1, 0, 0, 1, 1, 1, 0, 1, 1, 1, 1,\n",
       "       1, 1, 1, 1, 1, 1, 1, 1, 1, 0, 1, 1, 0, 1, 1, 1, 0, 0, 1, 1, 1, 1,\n",
       "       0, 1, 0, 1, 1, 1, 1, 1, 1, 1, 1, 1, 1, 1, 1], dtype=int64)"
      ]
     },
     "execution_count": 44,
     "metadata": {},
     "output_type": "execute_result"
    }
   ],
   "source": [
    "y_pred"
   ]
  },
  {
   "cell_type": "code",
   "execution_count": 45,
   "id": "fossil-letter",
   "metadata": {},
   "outputs": [],
   "source": [
    "y_pred_tranform = np.array(['Y' if value == 1 else 'N' for value in y_pred])"
   ]
  },
  {
   "cell_type": "markdown",
   "id": "detailed-million",
   "metadata": {},
   "source": [
    "# Creating Sample"
   ]
  },
  {
   "cell_type": "code",
   "execution_count": 46,
   "id": "minor-documentation",
   "metadata": {},
   "outputs": [],
   "source": [
    "sample_dataset = pd.read_csv('test.csv')"
   ]
  },
  {
   "cell_type": "code",
   "execution_count": 47,
   "id": "clean-triangle",
   "metadata": {},
   "outputs": [],
   "source": [
    "sample = pd.DataFrame(columns=['Loan_ID', 'Loan_Status'])"
   ]
  },
  {
   "cell_type": "code",
   "execution_count": 48,
   "id": "lesbian-malta",
   "metadata": {},
   "outputs": [],
   "source": [
    "sample.Loan_ID = sample_dataset.iloc[:, 0].values\n",
    "sample.Loan_Status = y_pred_tranform"
   ]
  },
  {
   "cell_type": "code",
   "execution_count": 49,
   "id": "forward-winter",
   "metadata": {},
   "outputs": [],
   "source": [
    "sample.to_csv('sample.csv', index=False)"
   ]
  },
  {
   "cell_type": "code",
   "execution_count": null,
   "id": "fundamental-arrest",
   "metadata": {},
   "outputs": [],
   "source": [
    "sns.scatterplot(x='Gender', y='Married', data=dataset, hue='Loan_Status')"
   ]
  },
  {
   "cell_type": "code",
   "execution_count": 51,
   "id": "korean-optimum",
   "metadata": {},
   "outputs": [
    {
     "name": "stdout",
     "output_type": "stream",
     "text": [
      "KFold(n_splits=2, random_state=None, shuffle=False)\n"
     ]
    }
   ],
   "source": [
    "import numpy as np\n",
    "from sklearn.model_selection import KFold\n",
    "X = np.array([[1, 2], [3, 4], [1, 2], [3, 4]])\n",
    "y = np.array([1, 2, 3, 4])\n",
    "kf = KFold(n_splits=2)\n",
    "# kf.get_n_splits(\n",
    "print(kf)"
   ]
  },
  {
   "cell_type": "code",
   "execution_count": null,
   "id": "recognized-device",
   "metadata": {},
   "outputs": [],
   "source": []
  }
 ],
 "metadata": {
  "hide_input": false,
  "kernelspec": {
   "display_name": "Python 3",
   "language": "python",
   "name": "python3"
  },
  "language_info": {
   "codemirror_mode": {
    "name": "ipython",
    "version": 3
   },
   "file_extension": ".py",
   "mimetype": "text/x-python",
   "name": "python",
   "nbconvert_exporter": "python",
   "pygments_lexer": "ipython3",
   "version": "3.7.4"
  }
 },
 "nbformat": 4,
 "nbformat_minor": 5
}
